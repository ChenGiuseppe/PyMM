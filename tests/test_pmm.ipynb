{
 "metadata": {
  "language_info": {
   "codemirror_mode": {
    "name": "ipython",
    "version": 3
   },
   "file_extension": ".py",
   "mimetype": "text/x-python",
   "name": "python",
   "nbconvert_exporter": "python",
   "pygments_lexer": "ipython3",
   "version": "3.9.4"
  },
  "orig_nbformat": 2,
  "kernelspec": {
   "name": "python394jvsc74a57bd0676ad3dc2bc2873242b62c9dd821caaaf8f5dc90cc56fca046628b2da1115a94",
   "display_name": "Python 3.9.4 64-bit ('pmm': conda)"
  },
  "metadata": {
   "interpreter": {
    "hash": "676ad3dc2bc2873242b62c9dd821caaaf8f5dc90cc56fca046628b2da1115a94"
   }
  }
 },
 "nbformat": 4,
 "nbformat_minor": 2,
 "cells": [
  {
   "cell_type": "code",
   "execution_count": null,
   "metadata": {},
   "outputs": [],
   "source": [
    "import sys\n",
    "from timeit import default_timer as timer\n",
    "\n",
    "sys.path.append('../pmm/')\n",
    "\n",
    "import inputs\n",
    "import pmm\n",
    "import conversions\n",
    "import MDAnalysis as mda\n",
    "import numpy as np\n",
    "#import numpy.linalg \n",
    "import nglview as nv"
   ]
  },
  {
   "cell_type": "code",
   "execution_count": null,
   "metadata": {},
   "outputs": [],
   "source": [
    "# gather the electronic properties\n",
    "start = timer()\n",
    "gauss_file = 'thioindigo/thio_pbe0_esp{}_x180.log'\n",
    "n_el_states = 16\n",
    "pmm_inputs = inputs.get_tot_input_gauss(gauss_file, n_el_states)\n",
    "end = timer()\n",
    "print('inputs da Gaussian ci mette: ', end - start)\n",
    "#print(pmm_inputs)\n",
    "\n",
    "qc_geom = pmm.convert2Universe(pmm_inputs['geometry'])\n",
    "# shift origin to center of mass\n",
    "cdm_ref = qc_geom.atoms.center_of_mass()\n",
    "qc_geom.atoms.positions = qc_geom.atoms.positions - cdm_ref\n",
    "\n",
    "print(qc_geom)\n"
   ]
  },
  {
   "cell_type": "code",
   "execution_count": null,
   "metadata": {},
   "outputs": [],
   "source": [
    "# Read the MD trajectory\n",
    "start = timer()\n",
    "traj = mda.Universe('thioindigo/thioindigo_trans_etoh_md.tpr', 'thioindigo/thio_etoh_center_10ps.xtc')\n",
    "end = timer()\n",
    "print('leggere xtc ci mette: ', end - start)\n",
    "w = nv.show_mdanalysis(traj)\n",
    "w\n",
    "\n",
    "#qc_traj, solv_traj = pmm.split_qc_solv(traj, '1:28')\n",
    "#print(qc_traj)\n",
    "#w = nv.show_mdanalysis(solv_traj)\n",
    "#w"
   ]
  },
  {
   "cell_type": "code",
   "execution_count": null,
   "metadata": {
    "tags": []
   },
   "outputs": [],
   "source": [
    "# MD-PMM calculation\n",
    "\n",
    "start = timer()\n",
    "el_field_traj = []\n",
    "potential_traj = []\n",
    "rot_dip_matrix_traj = []\n",
    "pmm_traj = []\n",
    "for ts in traj.trajectory:\n",
    "    # Divide the trajectory in QC and solvent.\n",
    "    # NOTE: the indexes for the QC are inclusive of the extremes.\n",
    "    qc_traj, solv_traj = pmm.split_qc_solv(traj, '1:28')\n",
    "    #print(pmm.rotate_dip_matrix(pmm_inputs['dip_matrix'], qc_traj, qc_geom))\n",
    "\n",
    "    # Calculate the center of mass of QC\n",
    "    cdm = qc_traj.center_of_mass()\n",
    "    print('cdm: ', cdm)\n",
    "    #print(solv_traj.atoms.positions)\n",
    "\n",
    "    # Calculate the el_field\n",
    "    el_field, potential = pmm.calc_el_field_pot(solv_traj.atoms.positions, solv_traj.atoms.charges, cdm)\n",
    "    el_field_traj.append(el_field)\n",
    "    potential_traj.append(potential)\n",
    "    #print(el_field, potential)\n",
    "\n",
    "    # Rotate the dip_matrix using mwsfit\n",
    "    rot_dip_matrix = pmm.rotate_dip_matrix(pmm_inputs['dip_matrix'], qc_traj, qc_geom)\n",
    "    rot_dip_matrix_traj.append(rot_dip_matrix)\n",
    "\n",
    "    pmm_matrix = pmm.pmm_matrix(pmm_inputs['energies'], rot_dip_matrix, el_field, potential)\n",
    "    #print(pmm_matrix)\n",
    "    pmm_traj.append(np.linalg.eig(pmm_matrix))\n",
    "end = timer()\n",
    "print('PMM ci mette: ', end - start)\n",
    "print(len(pmm_traj), pmm_traj[0][0].shape)\n"
   ]
  },
  {
   "cell_type": "code",
   "execution_count": null,
   "metadata": {},
   "outputs": [],
   "source": [
    "# Check the electric field:\n",
    "for frame in el_field_traj:\n",
    "    print(*frame)"
   ]
  },
  {
   "cell_type": "code",
   "execution_count": null,
   "metadata": {},
   "outputs": [],
   "source": [
    "# Check potential\n",
    "for frame in potential_traj:\n",
    "    print(frame)"
   ]
  },
  {
   "cell_type": "code",
   "execution_count": null,
   "metadata": {
    "tags": [
     "outputPrepend"
    ]
   },
   "outputs": [],
   "source": [
    "# Check the rotated dip matrix\n",
    "for frame in rot_dip_matrix_traj:\n",
    "    print(frame)"
   ]
  },
  {
   "cell_type": "code",
   "execution_count": null,
   "metadata": {},
   "outputs": [],
   "source": []
  }
 ]
}