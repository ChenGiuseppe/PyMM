{
 "metadata": {
  "language_info": {
   "codemirror_mode": {
    "name": "ipython",
    "version": 3
   },
   "file_extension": ".py",
   "mimetype": "text/x-python",
   "name": "python",
   "nbconvert_exporter": "python",
   "pygments_lexer": "ipython3",
   "version": "3.9.4"
  },
  "orig_nbformat": 2,
  "kernelspec": {
   "name": "python394jvsc74a57bd0676ad3dc2bc2873242b62c9dd821caaaf8f5dc90cc56fca046628b2da1115a94",
   "display_name": "Python 3.9.4 64-bit ('pmm': conda)"
  },
  "metadata": {
   "interpreter": {
    "hash": "676ad3dc2bc2873242b62c9dd821caaaf8f5dc90cc56fca046628b2da1115a94"
   }
  }
 },
 "nbformat": 4,
 "nbformat_minor": 2,
 "cells": [
  {
   "cell_type": "code",
   "execution_count": 10,
   "metadata": {},
   "outputs": [],
   "source": [
    "import sys\n",
    "from timeit import default_timer as timer\n",
    "\n",
    "sys.path.append('../pmm/')\n",
    "\n",
    "import inputs\n",
    "from pmm.pmm import convert2Universe, split_qc_solv, calc_el_field_pot, calc_pmm_matrix, rotate_dip_matrix\n",
    "import conversions\n",
    "import MDAnalysis as mda\n",
    "import numpy as np\n",
    "#import numpy.linalg \n",
    "import nglview as nv"
   ]
  },
  {
   "cell_type": "code",
   "execution_count": 11,
   "metadata": {},
   "outputs": [
    {
     "output_type": "stream",
     "name": "stdout",
     "text": [
      "inputs da Gaussian ci mette:  0.03302109999640379\n",
      "<Universe with 28 atoms>\n",
      "/mnt/d/miniconda3/envs/pmm/lib/python3.9/site-packages/MDAnalysis/core/universe.py:467: UserWarning: Residues specified but no atom_resindex given.  All atoms will be placed in first Residue.\n",
      "  warnings.warn(\n",
      "/mnt/d/miniconda3/envs/pmm/lib/python3.9/site-packages/MDAnalysis/core/universe.py:473: UserWarning: Segments specified but no segment_resindex given.  All residues will be placed in first Segment\n",
      "  warnings.warn(\n"
     ]
    }
   ],
   "source": [
    "# gather the electronic properties\n",
    "start = timer()\n",
    "gauss_file = 'thioindigo/thio_pbe0_esp{}_x180.log'\n",
    "n_el_states = 16\n",
    "pmm_inputs = inputs.get_tot_input_gauss(gauss_file, n_el_states)\n",
    "end = timer()\n",
    "print('inputs da Gaussian ci mette: ', end - start)\n",
    "#print(pmm_inputs)\n",
    "\n",
    "qc_geom = convert2Universe(pmm_inputs['geometry'])\n",
    "# shift origin to center of mass\n",
    "cdm_ref = qc_geom.atoms.center_of_mass()\n",
    "qc_geom.atoms.positions = qc_geom.atoms.positions - cdm_ref\n",
    "\n",
    "print(qc_geom)\n"
   ]
  },
  {
   "cell_type": "code",
   "execution_count": 6,
   "metadata": {},
   "outputs": [
    {
     "output_type": "stream",
     "name": "stdout",
     "text": [
      "leggere xtc ci mette:  0.10023150000051828\n"
     ]
    },
    {
     "output_type": "display_data",
     "data": {
      "text/plain": "NGLWidget(max_frame=10)",
      "application/vnd.jupyter.widget-view+json": {
       "version_major": 2,
       "version_minor": 0,
       "model_id": "6b8de2efb77f42d28dbcf752fabf3068"
      }
     },
     "metadata": {}
    }
   ],
   "source": [
    "# Read the MD trajectory\n",
    "start = timer()\n",
    "traj = mda.Universe('thioindigo/thioindigo_trans_etoh_md.tpr', 'thioindigo/thio_etoh_center_10ps.xtc')\n",
    "end = timer()\n",
    "print('leggere xtc ci mette: ', end - start)\n",
    "w = nv.show_mdanalysis(traj)\n",
    "w\n",
    "\n",
    "#qc_traj, solv_traj = pmm.split_qc_solv(traj, '1:28')\n",
    "#print(qc_traj)\n",
    "#w = nv.show_mdanalysis(solv_traj)\n",
    "#w"
   ]
  },
  {
   "cell_type": "code",
   "execution_count": 7,
   "metadata": {
    "tags": []
   },
   "outputs": [
    {
     "output_type": "error",
     "ename": "AttributeError",
     "evalue": "module 'pmm' has no attribute 'split_qc_solv'",
     "traceback": [
      "\u001b[0;31m---------------------------------------------------------------------------\u001b[0m",
      "\u001b[0;31mAttributeError\u001b[0m                            Traceback (most recent call last)",
      "\u001b[0;32m<ipython-input-7-0fd75c1a7486>\u001b[0m in \u001b[0;36m<module>\u001b[0;34m\u001b[0m\n\u001b[1;32m      9\u001b[0m     \u001b[0;31m# Divide the trajectory in QC and solvent.\u001b[0m\u001b[0;34m\u001b[0m\u001b[0;34m\u001b[0m\u001b[0;34m\u001b[0m\u001b[0m\n\u001b[1;32m     10\u001b[0m     \u001b[0;31m# NOTE: the indexes for the QC are inclusive of the extremes.\u001b[0m\u001b[0;34m\u001b[0m\u001b[0;34m\u001b[0m\u001b[0;34m\u001b[0m\u001b[0m\n\u001b[0;32m---> 11\u001b[0;31m     \u001b[0mqc_traj\u001b[0m\u001b[0;34m,\u001b[0m \u001b[0msolv_traj\u001b[0m \u001b[0;34m=\u001b[0m \u001b[0mpmm\u001b[0m\u001b[0;34m.\u001b[0m\u001b[0msplit_qc_solv\u001b[0m\u001b[0;34m(\u001b[0m\u001b[0mtraj\u001b[0m\u001b[0;34m,\u001b[0m \u001b[0;34m'1:28'\u001b[0m\u001b[0;34m)\u001b[0m\u001b[0;34m\u001b[0m\u001b[0;34m\u001b[0m\u001b[0m\n\u001b[0m\u001b[1;32m     12\u001b[0m     \u001b[0;31m#print(pmm.rotate_dip_matrix(pmm_inputs['dip_matrix'], qc_traj, qc_geom))\u001b[0m\u001b[0;34m\u001b[0m\u001b[0;34m\u001b[0m\u001b[0;34m\u001b[0m\u001b[0m\n\u001b[1;32m     13\u001b[0m \u001b[0;34m\u001b[0m\u001b[0m\n",
      "\u001b[0;31mAttributeError\u001b[0m: module 'pmm' has no attribute 'split_qc_solv'"
     ]
    }
   ],
   "source": [
    "# MD-PMM calculation\n",
    "\n",
    "start = timer()\n",
    "el_field_traj = []\n",
    "potential_traj = []\n",
    "rot_dip_matrix_traj = []\n",
    "pmm_traj = []\n",
    "for ts in traj.trajectory:\n",
    "    # Divide the trajectory in QC and solvent.\n",
    "    # NOTE: the indexes for the QC are inclusive of the extremes.\n",
    "    qc_traj, solv_traj = split_qc_solv(traj, '1:28')\n",
    "    #print(pmm.rotate_dip_matrix(pmm_inputs['dip_matrix'], qc_traj, qc_geom))\n",
    "\n",
    "    # Calculate the center of mass of QC\n",
    "    cdm = qc_traj.center_of_mass()\n",
    "    print('cdm: ', cdm)\n",
    "    #print(solv_traj.atoms.positions)\n",
    "\n",
    "    # Calculate the el_field\n",
    "    el_field, potential = calc_el_field_pot(solv_traj.atoms.positions, solv_traj.atoms.charges, cdm)\n",
    "    el_field_traj.append(el_field)\n",
    "    potential_traj.append(potential)\n",
    "    #print(el_field, potential)\n",
    "\n",
    "    # Rotate the dip_matrix using mwsfit\n",
    "    rot_dip_matrix = rotate_dip_matrix(pmm_inputs['dip_matrix'], qc_traj, qc_geom)\n",
    "    rot_dip_matrix_traj.append(rot_dip_matrix)\n",
    "\n",
    "    pmm_matrix = calc_pmm_matrix(pmm_inputs['energies'], rot_dip_matrix, el_field, potential)\n",
    "    #print(pmm_matrix)\n",
    "    pmm_traj.append(np.linalg.eig(pmm_matrix))\n",
    "end = timer()\n",
    "print('PMM ci mette: ', end - start)\n",
    "print(len(pmm_traj), pmm_traj[0][0].shape)\n"
   ]
  },
  {
   "cell_type": "code",
   "execution_count": null,
   "metadata": {},
   "outputs": [],
   "source": [
    "# Check the electric field:\n",
    "for frame in el_field_traj:\n",
    "    print(*frame)"
   ]
  },
  {
   "cell_type": "code",
   "execution_count": null,
   "metadata": {},
   "outputs": [],
   "source": [
    "# Check potential\n",
    "for frame in potential_traj:\n",
    "    print(frame)"
   ]
  },
  {
   "cell_type": "code",
   "execution_count": null,
   "metadata": {
    "tags": [
     "outputPrepend"
    ]
   },
   "outputs": [],
   "source": [
    "# Check the rotated dip matrix\n",
    "for frame in rot_dip_matrix_traj:\n",
    "    print(frame)"
   ]
  },
  {
   "cell_type": "code",
   "execution_count": null,
   "metadata": {},
   "outputs": [],
   "source": []
  }
 ]
}