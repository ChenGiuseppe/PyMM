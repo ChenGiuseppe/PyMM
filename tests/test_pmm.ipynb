{
 "metadata": {
  "language_info": {
   "codemirror_mode": {
    "name": "ipython",
    "version": 3
   },
   "file_extension": ".py",
   "mimetype": "text/x-python",
   "name": "python",
   "nbconvert_exporter": "python",
   "pygments_lexer": "ipython3",
   "version": "3.9.4"
  },
  "orig_nbformat": 2,
  "kernelspec": {
   "name": "python394jvsc74a57bd0676ad3dc2bc2873242b62c9dd821caaaf8f5dc90cc56fca046628b2da1115a94",
   "display_name": "Python 3.9.4 64-bit ('pmm': conda)"
  },
  "metadata": {
   "interpreter": {
    "hash": "676ad3dc2bc2873242b62c9dd821caaaf8f5dc90cc56fca046628b2da1115a94"
   }
  }
 },
 "nbformat": 4,
 "nbformat_minor": 2,
 "cells": [
  {
   "cell_type": "code",
   "execution_count": 1,
   "metadata": {},
   "outputs": [
    {
     "output_type": "display_data",
     "data": {
      "text/plain": "",
      "application/vnd.jupyter.widget-view+json": {
       "version_major": 2,
       "version_minor": 0,
       "model_id": "cbeae5b2a402457696f557c5f2e7b1e5"
      }
     },
     "metadata": {}
    }
   ],
   "source": [
    "import sys\n",
    "from timeit import default_timer as timer\n",
    "import pmm.inputs\n",
    "import pmm.pmm \n",
    "import pmm.conversions\n",
    "import MDAnalysis as mda\n",
    "import numpy as np\n",
    "#import numpy.linalg \n",
    "import nglview as nv"
   ]
  },
  {
   "cell_type": "code",
   "execution_count": 2,
   "metadata": {},
   "outputs": [
    {
     "output_type": "stream",
     "name": "stdout",
     "text": [
      "inputs da Gaussian ci mette:  0.09268159998464398\n",
      "<Universe with 3 atoms>\n",
      "/mnt/d/miniconda3/envs/pmm/lib/python3.9/site-packages/MDAnalysis/core/universe.py:467: UserWarning: Residues specified but no atom_resindex given.  All atoms will be placed in first Residue.\n",
      "  warnings.warn(\n",
      "/mnt/d/miniconda3/envs/pmm/lib/python3.9/site-packages/MDAnalysis/core/universe.py:473: UserWarning: Segments specified but no segment_resindex given.  All residues will be placed in first Segment\n",
      "  warnings.warn(\n"
     ]
    }
   ],
   "source": [
    "# gather the electronic properties\n",
    "start = timer()\n",
    "gauss_file = 'water/qm/wat_esp{}.log'\n",
    "n_el_states = 4\n",
    "qm_inputs = pmm.inputs.get_tot_input_gauss(gauss_file, n_el_states)\n",
    "end = timer()\n",
    "print('inputs da Gaussian ci mette: ', end - start)\n",
    "#print(qm_inputs)\n",
    "\n",
    "qc_geom = pmm.pmm.convert2Universe(qm_inputs['geometry'])\n",
    "# shift origin to center of mass\n",
    "cdm_ref = qc_geom.atoms.center_of_mass()\n",
    "qc_geom.atoms.positions = qc_geom.atoms.positions - cdm_ref\n",
    "\n",
    "print(qc_geom)\n"
   ]
  },
  {
   "cell_type": "code",
   "execution_count": 3,
   "metadata": {},
   "outputs": [
    {
     "output_type": "stream",
     "name": "stdout",
     "text": [
      "leggere xtc ci mette:  0.13068349999957718\n"
     ]
    },
    {
     "output_type": "display_data",
     "data": {
      "text/plain": "NGLWidget(max_frame=10)",
      "application/vnd.jupyter.widget-view+json": {
       "version_major": 2,
       "version_minor": 0,
       "model_id": "1f13935d82ac47bcaf917f6fe6643604"
      }
     },
     "metadata": {}
    }
   ],
   "source": [
    "# Read the MD trajectory\n",
    "start = timer()\n",
    "traj = mda.Universe('water/mm/md.tpr', 'water/mm/trajout.xtc')\n",
    "end = timer()\n",
    "print('leggere xtc ci mette: ', end - start)\n",
    "w = nv.show_mdanalysis(traj)\n",
    "w\n",
    "\n",
    "#qc_traj, solv_traj = pmm.split_qc_solv(traj, '1:28')\n",
    "#print(qc_traj)\n",
    "#w = nv.show_mdanalysis(solv_traj)\n",
    "#w"
   ]
  },
  {
   "cell_type": "code",
   "execution_count": 4,
   "metadata": {
    "tags": []
   },
   "outputs": [
    {
     "output_type": "stream",
     "name": "stdout",
     "text": [
      "cdm:  [ 9.87342911 10.00740544 17.62475016]\n",
      "cdm:  [ 6.69084518 11.9881194   1.09230951]\n",
      "cdm:  [ 4.95895262 10.33707098  1.74853561]\n",
      "cdm:  [ 9.57622659 17.75517984  4.22292904]\n",
      "cdm:  [11.81650031  0.02859542  2.34691695]\n",
      "cdm:  [14.12377428  1.06811892  1.15028565]\n",
      "cdm:  [15.72657307  1.99202393  3.03707119]\n",
      "cdm:  [17.43210774 16.91223968  7.49097652]\n",
      "cdm:  [17.59671446  3.92684573  3.45530971]\n",
      "cdm:  [2.07328569 2.39104776 1.27322595]\n",
      "cdm:  [18.01460721  1.12021418 18.34936978]\n",
      "PMM ci mette:  0.06989220000104979\n",
      "/mnt/d/miniconda3/envs/pmm/lib/python3.9/site-packages/MDAnalysis/core/selection.py:728: DeprecationWarning: `np.bool` is a deprecated alias for the builtin `bool`. To silence this warning, use `bool` by itself. Doing this will not modify any behavior and is safe. If you specifically wanted the numpy scalar type, use `np.bool_` here.\n",
      "Deprecated in NumPy 1.20; for more details and guidance: https://numpy.org/devdocs/release/1.20.0-notes.html#deprecations\n",
      "  mask = np.zeros(len(group), dtype=np.bool)\n"
     ]
    }
   ],
   "source": [
    "# MD-PMM calculation\n",
    "\n",
    "start = timer()\n",
    "el_field_traj = []\n",
    "potential_traj = []\n",
    "rot_dip_matrix_traj = []\n",
    "eigenvals = []\n",
    "eigenvecs = []\n",
    "for ts in traj.trajectory:\n",
    "    # Divide the trajectory in QC and solvent.\n",
    "    # NOTE: the indexes for the QC are inclusive of the extremes.\n",
    "    qc_traj, solv_traj = pmm.pmm.split_qc_solv(traj, '1:3')\n",
    "    #print(pmm.rotate_dip_matrix(qm_inputs['dip_matrix'], qc_traj, qc_geom))\n",
    "\n",
    "    # Calculate the center of mass of QC\n",
    "    cdm = qc_traj.center_of_mass()\n",
    "    print('cdm: ', cdm)\n",
    "    #print(solv_traj.atoms.positions)\n",
    "\n",
    "    # Calculate the el_field\n",
    "    el_field, potential = pmm.pmm.calc_el_field_pot(solv_traj.atoms.positions, solv_traj.atoms.charges, cdm)\n",
    "    el_field_traj.append(el_field)\n",
    "    potential_traj.append(potential)\n",
    "    #print(el_field, potential)\n",
    "\n",
    "    # Rotate the dip_matrix using mwsfit\n",
    "    rot_dip_matrix = pmm.pmm.rotate_dip_matrix(qm_inputs['dip_matrix'], qc_traj, qc_geom)\n",
    "    rot_dip_matrix_traj.append(rot_dip_matrix)\n",
    "\n",
    "    pmm_matrix = pmm.pmm.calc_pmm_matrix(qm_inputs['energies'], rot_dip_matrix, el_field, potential)\n",
    "    #print(pmm_matrix)\n",
    "    eigenval, eigenvec = np.linalg.eigh(pmm_matrix)\n",
    "    eigenvals.append(eigenval)\n",
    "    eigenvecs.append(eigenvecs)\n",
    "end = timer()\n",
    "print('PMM ci mette: ', end - start)\n",
    "\n"
   ]
  },
  {
   "cell_type": "code",
   "execution_count": 5,
   "metadata": {},
   "outputs": [
    {
     "output_type": "stream",
     "name": "stdout",
     "text": [
      "0.014276775284243067 0.0001400488857403685 -0.007042059413858543\n0.027576742057973343 0.01774748757966043 -0.00929501898413013\n-0.004084725427671502 0.01862958920583513 0.022133216820143922\n0.0008672033278938741 0.004544040082551991 -0.021743179290322708\n-0.006938866027541683 -0.013406364417855617 -0.0027878785743164964\n-0.004948386250894784 0.003079120214502901 0.00746943591768773\n-0.012921738544510274 -0.005887627130070764 0.024404794648605035\n0.018288453988338053 0.016298081211073547 -0.011650802537297607\n-0.003996725108249908 -0.025334598319905345 -0.009379358351242411\n0.008433818943369344 -0.003519565112290671 0.011692594268626915\n-0.0005489663945449422 0.018189412302576626 -0.007512655224413784\n"
     ]
    }
   ],
   "source": [
    "# Check the electric field:\n",
    "for frame in el_field_traj:\n",
    "    print(*frame)"
   ]
  },
  {
   "cell_type": "code",
   "execution_count": 6,
   "metadata": {},
   "outputs": [
    {
     "output_type": "stream",
     "name": "stdout",
     "text": [
      "-0.0007186269082465821\n-0.06924384467727693\n0.045158613158056984\n0.050415757928526254\n0.029345873629465793\n-0.02370834123182902\n0.016911266739411124\n0.046111959721585355\n0.05410787887327574\n-0.03738909116874445\n-0.0671659422772331\n"
     ]
    }
   ],
   "source": [
    "# Check potential\n",
    "for frame in potential_traj:\n",
    "    print(frame)"
   ]
  },
  {
   "cell_type": "code",
   "execution_count": 7,
   "metadata": {
    "tags": []
   },
   "outputs": [
    {
     "output_type": "stream",
     "name": "stdout",
     "text": [
      "[[[ 0.17087604 -0.66996144 -0.44885683]\n  [-0.16682237  0.08317261 -0.18765091]\n  [ 0.          0.          0.        ]\n  [-0.12572193  0.49292368  0.33024611]]\n\n [[-0.16682237  0.08317261 -0.18765091]\n  [-0.04149765  0.16270172  0.10900594]\n  [ 0.          0.          0.        ]\n  [ 0.          0.          0.        ]]\n\n [[ 0.          0.          0.        ]\n  [ 0.          0.          0.        ]\n  [-0.02054493  0.08055142  0.05396737]\n  [ 0.          0.          0.        ]]\n\n [[-0.12572193  0.49292368  0.33024611]\n  [ 0.          0.          0.        ]\n  [ 0.          0.          0.        ]\n  [-0.04280261  0.16781813  0.1124338 ]]]\n[[[ 0.51724218  0.6220266   0.15831246]\n  [ 0.01951933  0.0497009  -0.25905418]\n  [ 0.          0.          0.        ]\n  [-0.38056059 -0.45765566 -0.11647829]]\n\n [[ 0.01951933  0.0497009  -0.25905418]\n  [-0.12561349 -0.15106063 -0.03844656]\n  [ 0.          0.          0.        ]\n  [ 0.          0.          0.        ]]\n\n [[ 0.          0.          0.        ]\n  [ 0.          0.          0.        ]\n  [-0.06218954 -0.07478808 -0.01903437]\n  [ 0.          0.          0.        ]]\n\n [[-0.38056059 -0.45765566 -0.11647829]\n  [ 0.          0.          0.        ]\n  [ 0.          0.          0.        ]\n  [-0.1295636  -0.15581097 -0.03965557]]]\n[[[ 0.11452076  0.73024484  0.36489294]\n  [ 0.26143286 -0.02548982 -0.03103836]\n  [ 0.          0.          0.        ]\n  [-0.08425857 -0.53727716 -0.26846974]]\n\n [[ 0.26143286 -0.02548982 -0.03103836]\n  [-0.02781164 -0.17734169 -0.08861512]\n  [ 0.          0.          0.        ]\n  [ 0.          0.          0.        ]]\n\n [[ 0.          0.          0.        ]\n  [ 0.          0.          0.        ]\n  [-0.01376917 -0.08779947 -0.04387215]\n  [ 0.          0.          0.        ]]\n\n [[-0.08425857 -0.53727716 -0.26846974]\n  [ 0.          0.          0.        ]\n  [ 0.          0.          0.        ]\n  [-0.02868622 -0.18291847 -0.09140176]]]\n[[[ 0.20904691  0.32278478 -0.72912878]\n  [ 0.13876527 -0.2179237  -0.05668958]\n  [ 0.          0.          0.        ]\n  [-0.15380613 -0.23748868  0.53645601]]\n\n [[ 0.13876527 -0.2179237  -0.05668958]\n  [-0.05076754 -0.07838905  0.17707065]\n  [ 0.          0.          0.        ]\n  [ 0.          0.          0.        ]]\n\n [[ 0.          0.          0.        ]\n  [ 0.          0.          0.        ]\n  [-0.02513432 -0.03880936  0.08766529]\n  [ 0.          0.          0.        ]]\n\n [[-0.15380613 -0.23748868  0.53645601]\n  [ 0.          0.          0.        ]\n  [ 0.          0.          0.        ]\n  [-0.052364   -0.08085411  0.18263891]]]\n[[[-0.30222455 -0.52714244 -0.55704628]\n  [-0.24499731  0.04834262  0.08717544]\n  [ 0.          0.          0.        ]\n  [ 0.22236151  0.3878447   0.40984643]]\n\n [[-0.24499731  0.04834262  0.08717544]\n  [ 0.07339595  0.12801779  0.13528001]\n  [ 0.          0.          0.        ]\n  [ 0.          0.          0.        ]]\n\n [[ 0.          0.          0.        ]\n  [ 0.          0.          0.        ]\n  [ 0.03633734  0.06337988  0.0669753 ]\n  [ 0.          0.          0.        ]]\n\n [[ 0.22236151  0.3878447   0.40984643]\n  [ 0.          0.          0.        ]\n  [ 0.          0.          0.        ]\n  [ 0.075704    0.13204351  0.1395341 ]]]\n[[[-0.20775006  0.60906047  0.51517439]\n  [ 0.24102191 -0.00958057  0.10852144]\n  [ 0.          0.          0.        ]\n  [ 0.15285197 -0.44811584 -0.37903921]]\n\n [[ 0.24102191 -0.00958057  0.10852144]\n  [ 0.0504526  -0.14791178 -0.12511132]\n  [ 0.          0.          0.        ]\n  [ 0.          0.          0.        ]]\n\n [[ 0.          0.          0.        ]\n  [ 0.          0.          0.        ]\n  [ 0.0249784  -0.07322912 -0.06194092]\n  [ 0.          0.          0.        ]]\n\n [[ 0.15285197 -0.44811584 -0.37903921]\n  [ 0.          0.          0.        ]\n  [ 0.          0.          0.        ]\n  [ 0.05203916 -0.15256309 -0.12904564]]]\n[[[-0.1706287  -0.35545477  0.72391792]\n  [ 0.23700503 -0.11741237 -0.00178877]\n  [ 0.          0.          0.        ]\n  [ 0.12553996  0.26152561 -0.53262212]]\n\n [[ 0.23700503 -0.11741237 -0.00178877]\n  [ 0.04143759  0.08632303 -0.17580518]\n  [ 0.          0.          0.        ]\n  [ 0.          0.          0.        ]]\n\n [[ 0.          0.          0.        ]\n  [ 0.          0.          0.        ]\n  [ 0.02051519  0.04273737 -0.08703877]\n  [ 0.          0.          0.        ]]\n\n [[ 0.12553996  0.26152561 -0.53262212]\n  [ 0.          0.          0.        ]\n  [ 0.          0.          0.        ]\n  [ 0.04274065  0.08903759 -0.18133365]]]\n[[[ 0.78770817  0.02840041 -0.24130613]\n  [ 0.03458285  0.22232293  0.13905679]\n  [ 0.          0.          0.        ]\n  [-0.57955576 -0.02089558  0.17754082]]\n\n [[ 0.03458285  0.22232293  0.13905679]\n  [-0.1912968  -0.00689711  0.05860177]\n  [ 0.          0.          0.        ]\n  [ 0.          0.          0.        ]]\n\n [[ 0.          0.          0.        ]\n  [ 0.          0.          0.        ]\n  [-0.09470846 -0.00341466  0.02901294]\n  [ 0.          0.          0.        ]]\n\n [[-0.57955576 -0.02089558  0.17754082]\n  [ 0.          0.          0.        ]\n  [ 0.          0.          0.        ]\n  [-0.19731242 -0.007114    0.06044459]]]\n[[[ 0.09127965 -0.68563052 -0.44843976]\n  [-0.04609823  0.13823787 -0.22073852]\n  [ 0.          0.          0.        ]\n  [-0.06715894  0.50445219  0.32993925]]\n\n [[-0.04609823  0.13823787 -0.22073852]\n  [-0.02216748  0.166507    0.10890466]\n  [ 0.          0.          0.        ]\n  [ 0.          0.          0.        ]]\n\n [[ 0.          0.          0.        ]\n  [ 0.          0.          0.        ]\n  [-0.01097482  0.08243536  0.05391722]\n  [ 0.          0.          0.        ]]\n\n [[-0.06715894  0.50445219  0.32993925]\n  [ 0.          0.          0.        ]\n  [ 0.          0.          0.        ]\n  [-0.02286457  0.17174306  0.11232933]]]\n[[[-0.08084111 -0.11460673  0.81231115]\n  [-0.01980193  0.26143661  0.03491468]\n  [ 0.          0.          0.        ]\n  [ 0.05947879  0.08432182 -0.59765739]]\n\n [[-0.01980193  0.26143661  0.03491468]\n  [ 0.01963246  0.02783252 -0.19727169]\n  [ 0.          0.          0.        ]\n  [ 0.          0.          0.        ]]\n\n [[ 0.          0.          0.        ]\n  [ 0.          0.          0.        ]\n  [ 0.00971976  0.0137795  -0.09766655]\n  [ 0.          0.          0.        ]]\n\n [[ 0.05947879  0.08432182 -0.59765739]\n  [ 0.          0.          0.        ]\n  [ 0.          0.          0.        ]\n  [ 0.02024983  0.02870775 -0.2034752 ]]]\n[[[-0.71336673  0.38971571 -0.13692689]\n  [ 0.0455669  -0.00808939 -0.26041979]\n  [ 0.          0.          0.        ]\n  [ 0.52485909 -0.28673307  0.10074387]]\n\n [[ 0.0455669  -0.00808939 -0.26041979]\n  [ 0.1732428  -0.09464338  0.03325302]\n  [ 0.          0.          0.        ]\n  [ 0.          0.          0.        ]]\n\n [[ 0.          0.          0.        ]\n  [ 0.          0.          0.        ]\n  [ 0.08577017 -0.04685666  0.01646312]\n  [ 0.          0.          0.        ]]\n\n [[ 0.52485909 -0.28673307  0.10074387]\n  [ 0.          0.          0.        ]\n  [ 0.          0.          0.        ]\n  [ 0.17869069 -0.09761959  0.03429871]]]\n"
     ]
    }
   ],
   "source": [
    "# Check the rotated dip matrix\n",
    "for frame in rot_dip_matrix_traj:\n",
    "    print(frame)"
   ]
  },
  {
   "cell_type": "code",
   "execution_count": null,
   "metadata": {},
   "outputs": [],
   "source": []
  }
 ]
}