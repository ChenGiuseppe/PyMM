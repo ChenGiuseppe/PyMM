{
 "metadata": {
  "language_info": {
   "codemirror_mode": {
    "name": "ipython",
    "version": 3
   },
   "file_extension": ".py",
   "mimetype": "text/x-python",
   "name": "python",
   "nbconvert_exporter": "python",
   "pygments_lexer": "ipython3",
   "version": "3.9.4"
  },
  "orig_nbformat": 2,
  "kernelspec": {
   "name": "python394jvsc74a57bd0676ad3dc2bc2873242b62c9dd821caaaf8f5dc90cc56fca046628b2da1115a94",
   "display_name": "Python 3.9.4 64-bit ('pmm': conda)"
  }
 },
 "nbformat": 4,
 "nbformat_minor": 2,
 "cells": [
  {
   "cell_type": "code",
   "execution_count": null,
   "metadata": {},
   "outputs": [],
   "source": [
    "import sys\n",
    "from timeit import default_timer as timer\n",
    "\n",
    "sys.path.append('../pmm/')\n",
    "\n",
    "import inputs\n",
    "import pmm\n",
    "import conversions\n",
    "import MDAnalysis as mda\n",
    "import numpy as np\n",
    "#import numpy.linalg \n",
    "import nglview as nv"
   ]
  },
  {
   "cell_type": "code",
   "execution_count": null,
   "metadata": {},
   "outputs": [],
   "source": [
    "# gather the electronic properties\n",
    "start = timer()\n",
    "\n",
    "# gaussian calculation output file. Place \"{}\" instead of the el_state index.\n",
    "# Ground state -> 0\n",
    "# NOTE: the filename scheme is preceeded by the path in which you can find it.\n",
    "gauss_file = 'thioindigo/thio_pbe0_esp{}_x180.log'\n",
    "\n",
    "# number of electronic states (including the ground state)\n",
    "n_el_states = 16\n",
    "\n",
    "pmm_inputs = inputs.get_tot_input_gauss(gauss_file, n_el_states, get_charges=True)\n",
    "end = timer()\n",
    "print('inputs da Gaussian ci mette: ', end - start)\n",
    "#print(pmm_inputs)\n",
    "\n",
    "qc_geom = pmm.convert2Universe(pmm_inputs['geometry'])\n",
    "#print(qc_geom)\n",
    "w = nv.show_mdanalysis(qc_geom)\n",
    "w"
   ]
  },
  {
   "cell_type": "code",
   "execution_count": null,
   "metadata": {},
   "outputs": [],
   "source": [
    "# Check QC geometry\n",
    "for atom in pmm_inputs['geometry']:\n",
    "    print(*atom)"
   ]
  },
  {
   "cell_type": "code",
   "execution_count": null,
   "metadata": {},
   "outputs": [],
   "source": [
    "for energy in pmm_inputs['energies']:\n",
    "    print(energy)"
   ]
  },
  {
   "cell_type": "code",
   "execution_count": null,
   "metadata": {},
   "outputs": [],
   "source": [
    "dip_matrix = pmm_inputs['dip_matrix']\n",
    "for i in range(dip_matrix.shape[0]):\n",
    "    for j in range(dip_matrix.shape[1]):\n",
    "        print(i, j, *dip_matrix[i, j, :])"
   ]
  },
  {
   "cell_type": "code",
   "execution_count": null,
   "metadata": {},
   "outputs": [],
   "source": [
    "for state in range(n_el_states):\n",
    "    print(f'el. state {state}')\n",
    "    print(*pmm_inputs[f'charges_{state}'])"
   ]
  },
  {
   "cell_type": "code",
   "execution_count": null,
   "metadata": {},
   "outputs": [],
   "source": []
  }
 ]
}