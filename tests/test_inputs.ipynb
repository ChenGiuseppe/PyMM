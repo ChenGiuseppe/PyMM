{
 "metadata": {
  "language_info": {
   "codemirror_mode": {
    "name": "ipython",
    "version": 3
   },
   "file_extension": ".py",
   "mimetype": "text/x-python",
   "name": "python",
   "nbconvert_exporter": "python",
   "pygments_lexer": "ipython3",
   "version": "3.9.4"
  },
  "orig_nbformat": 2,
  "kernelspec": {
   "name": "python394jvsc74a57bd0676ad3dc2bc2873242b62c9dd821caaaf8f5dc90cc56fca046628b2da1115a94",
   "display_name": "Python 3.9.4 64-bit ('pmm': conda)"
  }
 },
 "nbformat": 4,
 "nbformat_minor": 2,
 "cells": [
  {
   "cell_type": "code",
   "execution_count": 1,
   "metadata": {},
   "outputs": [
    {
     "output_type": "display_data",
     "data": {
      "text/plain": "",
      "application/vnd.jupyter.widget-view+json": {
       "version_major": 2,
       "version_minor": 0,
       "model_id": "c8be6439a11848bc8ef6e9e18d4faa8a"
      }
     },
     "metadata": {}
    }
   ],
   "source": [
    "import sys\n",
    "from timeit import default_timer as timer\n",
    "import pmm.inputs\n",
    "import pmm.pmm\n",
    "import pmm.conversions\n",
    "import MDAnalysis as mda\n",
    "import numpy as np\n",
    "#import numpy.linalg \n",
    "import nglview as nv"
   ]
  },
  {
   "cell_type": "code",
   "execution_count": 2,
   "metadata": {},
   "outputs": [
    {
     "output_type": "stream",
     "name": "stdout",
     "text": [
      "inputs da Gaussian ci mette:  0.008746999999857508\n",
      "/mnt/d/miniconda3/envs/pmm/lib/python3.9/site-packages/MDAnalysis/core/universe.py:467: UserWarning: Residues specified but no atom_resindex given.  All atoms will be placed in first Residue.\n",
      "  warnings.warn(\n",
      "/mnt/d/miniconda3/envs/pmm/lib/python3.9/site-packages/MDAnalysis/core/universe.py:473: UserWarning: Segments specified but no segment_resindex given.  All residues will be placed in first Segment\n",
      "  warnings.warn(\n"
     ]
    },
    {
     "output_type": "display_data",
     "data": {
      "text/plain": "NGLWidget()",
      "application/vnd.jupyter.widget-view+json": {
       "version_major": 2,
       "version_minor": 0,
       "model_id": "e5bbf3a4fc7d491bbc3762d0a5433c34"
      }
     },
     "metadata": {}
    }
   ],
   "source": [
    "# gather the electronic properties\n",
    "start = timer()\n",
    "\n",
    "# gaussian calculation output file. Place \"{}\" instead of the el_state index.\n",
    "# Ground state -> 0\n",
    "# NOTE: the filename scheme is preceeded by the path in which you can find it.\n",
    "gauss_file = 'water/qm/wat_esp{}.log'\n",
    "\n",
    "# number of electronic states (including the ground state)\n",
    "n_el_states = 4\n",
    "\n",
    "qm_inputs = pmm.inputs.get_tot_input_gauss(gauss_file, n_el_states, get_charges=True)\n",
    "end = timer()\n",
    "print('inputs da Gaussian ci mette: ', end - start)\n",
    "#print(qm_inputs)\n",
    "\n",
    "qc_geom = pmm.pmm.convert2Universe(qm_inputs['geometry'])\n",
    "#print(qc_geom)\n",
    "w = nv.show_mdanalysis(qc_geom)\n",
    "w"
   ]
  },
  {
   "cell_type": "code",
   "execution_count": 3,
   "metadata": {},
   "outputs": [
    {
     "output_type": "stream",
     "name": "stdout",
     "text": [
      "16.0 0.0 -0.0 0.119694\n1.0 0.0 0.76143 -0.478776\n1.0 -0.0 -0.76143 -0.478776\n"
     ]
    }
   ],
   "source": [
    "# Check QC geometry\n",
    "for atom in qm_inputs['geometry']:\n",
    "    print(*atom)"
   ]
  },
  {
   "cell_type": "code",
   "execution_count": 4,
   "metadata": {},
   "outputs": [
    {
     "output_type": "stream",
     "name": "stdout",
     "text": [
      "-76.4089538588\n-76.1179507816003\n-76.04355548072854\n-76.02306406610393\n"
     ]
    }
   ],
   "source": [
    "for energy in qm_inputs['energies']:\n",
    "    print(energy)"
   ]
  },
  {
   "cell_type": "code",
   "execution_count": 5,
   "metadata": {},
   "outputs": [
    {
     "output_type": "stream",
     "name": "stdout",
     "text": [
      "0 0 0.0 0.0 -0.8243296655999999\n0 1 0.2645 0.0 0.0\n0 2 0.0 0.0 0.0\n0 3 0.0 0.0 0.6065\n1 0 0.2645 0.0 0.0\n1 1 0.0 0.0 0.2001904128\n1 2 0.0 0.0 0.0\n1 3 0.0 0.0 0.0\n2 0 0.0 0.0 0.0\n2 1 0.0 0.0 0.0\n2 2 -0.0 0.0 0.0991115664\n2 3 0.0 0.0 0.0\n3 0 0.0 0.0 0.6065\n3 1 0.0 0.0 0.0\n3 2 0.0 0.0 0.0\n3 3 0.0 -0.0 0.2064857088\n"
     ]
    }
   ],
   "source": [
    "dip_matrix = qm_inputs['dip_matrix']\n",
    "for i in range(dip_matrix.shape[0]):\n",
    "    for j in range(dip_matrix.shape[1]):\n",
    "        print(i, j, *dip_matrix[i, j, :])"
   ]
  },
  {
   "cell_type": "code",
   "execution_count": 6,
   "metadata": {},
   "outputs": [
    {
     "output_type": "stream",
     "name": "stdout",
     "text": [
      "el. state 0\n-0.728824 0.364412 0.364412\nel. state 1\n0.177005 -0.088503 -0.088503\nel. state 2\n0.087629 -0.043814 -0.043814\nel. state 3\n0.182559 -0.09128 -0.09128\n"
     ]
    }
   ],
   "source": [
    "for state in range(n_el_states):\n",
    "    print(f'el. state {state}')\n",
    "    print(*qm_inputs[f'charges_{state}'])"
   ]
  },
  {
   "cell_type": "code",
   "execution_count": null,
   "metadata": {},
   "outputs": [],
   "source": []
  }
 ]
}