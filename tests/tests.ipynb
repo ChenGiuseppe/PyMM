{
 "metadata": {
  "language_info": {
   "codemirror_mode": {
    "name": "ipython",
    "version": 3
   },
   "file_extension": ".py",
   "mimetype": "text/x-python",
   "name": "python",
   "nbconvert_exporter": "python",
   "pygments_lexer": "ipython3",
   "version": "3.9.4"
  },
  "orig_nbformat": 2,
  "kernelspec": {
   "name": "python394jvsc74a57bd0676ad3dc2bc2873242b62c9dd821caaaf8f5dc90cc56fca046628b2da1115a94",
   "display_name": "Python 3.9.4 64-bit ('pmm': conda)"
  },
  "metadata": {
   "interpreter": {
    "hash": "676ad3dc2bc2873242b62c9dd821caaaf8f5dc90cc56fca046628b2da1115a94"
   }
  }
 },
 "nbformat": 4,
 "nbformat_minor": 2,
 "cells": [
  {
   "cell_type": "code",
   "execution_count": 1,
   "metadata": {},
   "outputs": [
    {
     "output_type": "display_data",
     "data": {
      "text/plain": "",
      "application/vnd.jupyter.widget-view+json": {
       "version_major": 2,
       "version_minor": 0,
       "model_id": "930c33885c3940acb70ffd6aa0e9a444"
      }
     },
     "metadata": {}
    }
   ],
   "source": [
    "import sys\n",
    "from timeit import default_timer as timer\n",
    "\n",
    "sys.path.append('../pmm/')\n",
    "\n",
    "import inputs\n",
    "import pmm\n",
    "import conversions\n",
    "import MDAnalysis as mda\n",
    "import numpy as np\n",
    "import nglview as nv\n",
    "from nglview.datafiles import GRO, XTC"
   ]
  },
  {
   "cell_type": "code",
   "execution_count": 2,
   "metadata": {},
   "outputs": [
    {
     "output_type": "stream",
     "name": "stdout",
     "text": [
      "inputs da Gaussian ci mette:  0.030039699995541014\n",
      "[1.0, 12.0, 12.0, 1.0, 12.0, 1.0, 12.0, 12.0, 12.0, 1.0, 32.0, 12.0, 12.0, 16.0, 12.0, 12.0, 16.0, 12.0, 12.0, 1.0, 12.0, 1.0, 12.0, 1.0, 12.0, 1.0, 12.0, 32.0]\n",
      "<Universe with 28 atoms>\n",
      "/mnt/d/miniconda3/envs/pmm/lib/python3.9/site-packages/MDAnalysis/core/universe.py:467: UserWarning: Residues specified but no atom_resindex given.  All atoms will be placed in first Residue.\n",
      "  warnings.warn(\n",
      "/mnt/d/miniconda3/envs/pmm/lib/python3.9/site-packages/MDAnalysis/core/universe.py:473: UserWarning: Segments specified but no segment_resindex given.  All residues will be placed in first Segment\n",
      "  warnings.warn(\n"
     ]
    }
   ],
   "source": [
    "# gather the electronic properties\n",
    "start = timer()\n",
    "pmm_inputs = inputs.get_tot_input_gauss('thioindigo/thio_pbe0_esp{}_x180.log', 16)\n",
    "end = timer()\n",
    "print('inputs da Gaussian ci mette: ', end - start)\n",
    "#print(pmm_inputs)\n",
    "\n",
    "qc_geom = pmm.convert2Universe(pmm_inputs['geometry'])\n",
    "print(qc_geom)"
   ]
  },
  {
   "cell_type": "code",
   "execution_count": null,
   "metadata": {},
   "outputs": [],
   "source": [
    "strat = timer()\n",
    "traj = mda.Universe('thioindigo/thioindigo_trans_etoh_md.tpr', 'thioindigo/thio_etoh_center_10ps.xtc')\n",
    "end = timer()"
   ]
  },
  {
   "cell_type": "code",
   "execution_count": null,
   "metadata": {},
   "outputs": [],
   "source": []
  },
  {
   "cell_type": "code",
   "execution_count": null,
   "metadata": {},
   "outputs": [],
   "source": []
  }
 ]
}