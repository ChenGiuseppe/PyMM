{
 "metadata": {
  "language_info": {
   "codemirror_mode": {
    "name": "ipython",
    "version": 3
   },
   "file_extension": ".py",
   "mimetype": "text/x-python",
   "name": "python",
   "nbconvert_exporter": "python",
   "pygments_lexer": "ipython3",
   "version": "3.9.4"
  },
  "orig_nbformat": 2,
  "kernelspec": {
   "name": "python394jvsc74a57bd0676ad3dc2bc2873242b62c9dd821caaaf8f5dc90cc56fca046628b2da1115a94",
   "display_name": "Python 3.9.4 64-bit ('pmm': conda)"
  }
 },
 "nbformat": 4,
 "nbformat_minor": 2,
 "cells": [
  {
   "cell_type": "code",
   "execution_count": 1,
   "metadata": {},
   "outputs": [
    {
     "output_type": "display_data",
     "data": {
      "text/plain": "",
      "application/vnd.jupyter.widget-view+json": {
       "version_major": 2,
       "version_minor": 0,
       "model_id": "f38e1c41816948ab99ec6bf384b50060"
      }
     },
     "metadata": {}
    }
   ],
   "source": [
    "import sys\n",
    "from timeit import default_timer as timer\n",
    "\n",
    "sys.path.append('../pmm/')\n",
    "\n",
    "import inputs\n",
    "import pmm\n",
    "import conversions\n",
    "import MDAnalysis as mda\n",
    "from MDAnalysis.analysis import align\n",
    "from MDAnalysis.analysis.rms import rmsd\n",
    "import numpy as np\n",
    "#import numpy.linalg \n",
    "import nglview as nv"
   ]
  },
  {
   "cell_type": "code",
   "execution_count": 2,
   "metadata": {},
   "outputs": [
    {
     "output_type": "stream",
     "name": "stdout",
     "text": [
      "inputs da Gaussian ci mette:  0.13544240000192076\n",
      "<Universe with 28 atoms>\n",
      "/mnt/d/miniconda3/envs/pmm/lib/python3.9/site-packages/MDAnalysis/core/universe.py:467: UserWarning: Residues specified but no atom_resindex given.  All atoms will be placed in first Residue.\n",
      "  warnings.warn(\n",
      "/mnt/d/miniconda3/envs/pmm/lib/python3.9/site-packages/MDAnalysis/core/universe.py:473: UserWarning: Segments specified but no segment_resindex given.  All residues will be placed in first Segment\n",
      "  warnings.warn(\n"
     ]
    }
   ],
   "source": [
    "# gather the electronic properties\n",
    "start = timer()\n",
    "gauss_file = 'thioindigo/thio_pbe0_esp{}_x180.log'\n",
    "n_el_states = 16\n",
    "pmm_inputs = inputs.get_tot_input_gauss(gauss_file, n_el_states)\n",
    "end = timer()\n",
    "print('inputs da Gaussian ci mette: ', end - start)\n",
    "#print(pmm_inputs)\n",
    "\n",
    "qc_geom = pmm.convert2Universe(pmm_inputs['geometry'])\n",
    "print(qc_geom)"
   ]
  },
  {
   "cell_type": "code",
   "execution_count": 3,
   "metadata": {},
   "outputs": [
    {
     "output_type": "stream",
     "name": "stdout",
     "text": [
      "leggere xtc ci mette:  0.30158070003381\n"
     ]
    },
    {
     "output_type": "display_data",
     "data": {
      "text/plain": "NGLWidget(max_frame=10)",
      "application/vnd.jupyter.widget-view+json": {
       "version_major": 2,
       "version_minor": 0,
       "model_id": "c3d498f31eb2484393884ddc914b0fe6"
      }
     },
     "metadata": {}
    }
   ],
   "source": [
    "# Read the MD trajectory\n",
    "start = timer()\n",
    "traj = mda.Universe('thioindigo/thioindigo_trans_etoh_md.tpr', 'thioindigo/thio_etoh_center_10ps.xtc')\n",
    "end = timer()\n",
    "print('leggere xtc ci mette: ', end - start)\n",
    "w = nv.show_mdanalysis(traj)\n",
    "w\n",
    "\n",
    "#qc_traj, solv_traj = pmm.split_qc_solv(traj, '1:28')\n",
    "#print(qc_traj)\n",
    "#w = nv.show_mdanalysis(solv_traj)\n",
    "#w"
   ]
  },
  {
   "cell_type": "code",
   "execution_count": 29,
   "metadata": {
    "tags": []
   },
   "outputs": [
    {
     "output_type": "stream",
     "name": "stdout",
     "text": [
      "cdm traj  [-6.72337041e-08 -1.57696418e-08  3.32296128e-09]\n",
      "cdm traj  [-5.09601909e-08 -1.29904379e-08  5.21633353e-10]\n",
      "cdm traj  [-6.43249185e-08 -6.61249974e-09 -3.36625662e-11]\n",
      "cdm traj  [ 3.20704719e-08 -1.97913107e-09 -2.30857997e-09]\n",
      "cdm traj  [ 3.36811121e-08 -1.42766481e-09  2.93367734e-09]\n",
      "cdm traj  [ 4.44365762e-08  2.07016724e-08 -5.93400954e-09]\n",
      "cdm traj  [-5.98251894e-08  7.80078821e-09 -4.95316996e-09]\n",
      "cdm traj  [-2.25087071e-08  2.34845905e-09  6.06635208e-09]\n",
      "<class 'MDAnalysis.core.groups.AtomGroup'> <class 'MDAnalysis.core.universe.Universe'> <class 'MDAnalysis.core.universe.Universe'>\n",
      "[[ 6.134037   -1.754783   -0.7564516 ]\n",
      " [ 5.134035   -1.334783   -0.816453  ]\n",
      " [ 5.134035   -0.05478228 -1.2564516 ]\n",
      " [ 5.954035    0.20521605 -1.9164515 ]\n",
      " [ 4.0740356   0.7852179  -1.0364523 ]\n",
      " [ 4.054035    1.7652174  -1.4964514 ]\n",
      " [ 2.9740336   0.24521697 -0.41645145]\n",
      " [ 2.954035   -1.0747827   0.02354717]\n",
      " [ 4.0340347  -1.874782   -0.19645214]\n",
      " [ 3.994036   -2.954784   -0.01645184]\n",
      " [ 1.3940336  -1.5947832   0.7035475 ]\n",
      " [ 0.71403515 -0.03478182  0.4635477 ]\n",
      " [ 1.6740342   0.9052168  -0.23645115]\n",
      " [ 1.334036    1.785216   -1.0164518 ]\n",
      " [-0.585966    0.22521651  0.5635481 ]\n",
      " [-1.665964   -0.7747835   0.9635477 ]\n",
      " [-1.5059661  -1.754783    1.6635504 ]\n",
      " [-2.965965   -0.21478212  0.5235491 ]\n",
      " [-4.2259655  -0.7347826   0.7435484 ]\n",
      " [-4.365966   -1.6547827   1.2835493 ]\n",
      " [-5.3459654  -0.11478365  0.22354794]\n",
      " [-6.125966   -0.83478296 -0.05645085]\n",
      " [-5.2259655   1.0652167  -0.51645184]\n",
      " [-6.085965    1.4452177  -1.0564508 ]\n",
      " [-4.005966    1.665219   -0.6164522 ]\n",
      " [-3.8459651   2.6852174  -0.9764509 ]\n",
      " [-2.8659647   1.0252157  -0.15645313]\n",
      " [-1.2259654   1.7252165  -0.21645069]]\n",
      "[[ 6.440064e+00  1.039412e+00  6.260000e-04]\n",
      " [ 5.461440e+00  5.686280e-01  4.030000e-04]\n",
      " [ 5.368879e+00 -8.256550e-01  2.700000e-04]\n",
      " [ 6.272466e+00 -1.426251e+00  3.840000e-04]\n",
      " [ 4.124627e+00 -1.437039e+00 -1.100000e-05]\n",
      " [ 4.019357e+00 -2.517646e+00 -1.300000e-04]\n",
      " [ 2.982873e+00 -6.406820e-01 -1.720000e-04]\n",
      " [ 3.082578e+00  7.509040e-01 -2.000000e-05]\n",
      " [ 4.325436e+00  1.371045e+00  2.630000e-04]\n",
      " [ 4.412543e+00  2.453001e+00  3.800000e-04]\n",
      " [ 1.524547e+00  1.593851e+00 -1.930000e-04]\n",
      " [ 6.729080e-01  6.867000e-02 -2.310000e-04]\n",
      " [ 1.593823e+00 -1.104736e+00 -5.180000e-04]\n",
      " [ 1.194117e+00 -2.252742e+00 -3.510000e-04]\n",
      " [-6.729070e-01 -6.867000e-02 -9.000000e-05]\n",
      " [-1.593823e+00  1.104736e+00  1.680000e-04]\n",
      " [-1.194117e+00  2.252742e+00  2.340000e-04]\n",
      " [-2.982873e+00  6.406820e-01  1.450000e-04]\n",
      " [-4.124627e+00  1.437039e+00  2.660000e-04]\n",
      " [-4.019358e+00  2.517646e+00  3.850000e-04]\n",
      " [-5.368879e+00  8.256550e-01  2.360000e-04]\n",
      " [-6.272466e+00  1.426251e+00  3.320000e-04]\n",
      " [-5.461440e+00 -5.686280e-01  8.500000e-05]\n",
      " [-6.440064e+00 -1.039413e+00  6.300000e-05]\n",
      " [-4.325436e+00 -1.371045e+00 -3.800000e-05]\n",
      " [-4.412542e+00 -2.453001e+00 -1.550000e-04]\n",
      " [-3.082578e+00 -7.509040e-01 -7.000000e-06]\n",
      " [-1.524547e+00 -1.593851e+00 -1.470000e-04]]\n",
      "[[ 6.3553348   0.70870084  0.62076813]\n",
      " [ 5.315894    0.39322093  0.62705857]\n",
      " [ 5.178587   -0.9450968   0.47855625]\n",
      " [ 6.0062876  -1.5371832   0.85264707]\n",
      " [ 4.0008197  -1.5092907   0.06364942]\n",
      " [ 3.8858106  -2.5859387   0.06290501]\n",
      " [ 2.9375408  -0.6595955  -0.11927857]\n",
      " [ 3.06049     0.71627927  0.04879859]\n",
      " [ 4.252617    1.2429143   0.4441296 ]\n",
      " [ 4.344297    2.292127    0.746043  ]\n",
      " [ 1.5353994   1.6141919  -0.13629067]\n",
      " [ 0.6727278   0.17145509 -0.49393612]\n",
      " [ 1.5502192  -1.0592098  -0.39065608]\n",
      " [ 1.1583078  -2.1581771  -0.02042004]\n",
      " [-0.65425193  0.0951423  -0.5239918 ]\n",
      " [-1.618119    1.2590306  -0.31730482]\n",
      " [-1.3840845   2.428268   -0.54992944]\n",
      " [-2.9422605   0.67838037  0.00934161]\n",
      " [-4.1341896   1.3494834   0.19729723]\n",
      " [-4.1917033   2.4212081   0.1218041 ]\n",
      " [-5.282234    0.66455775  0.54668134]\n",
      " [-5.93306     1.2548716   1.2048262 ]\n",
      " [-5.263496   -0.72555643  0.6937593 ]\n",
      " [-6.1207976  -1.2268596   1.1288778 ]\n",
      " [-4.1314783  -1.412459    0.36956453]\n",
      " [-4.082123   -2.4969137   0.2387281 ]\n",
      " [-2.956173   -0.7375422   0.07982156]\n",
      " [-1.4260434  -1.533008   -0.37749282]]\n",
      "cdm traj  [4.93939224e-08 6.80852804e-09 9.83261700e-09]\n",
      "cdm traj  [4.06321559e-08 2.15041371e-09 6.12594406e-09]\n",
      "cdm traj  [ 1.88160731e-08  8.88460035e-09 -4.87923132e-09]\n",
      "/mnt/d/miniconda3/envs/pmm/lib/python3.9/site-packages/MDAnalysis/core/universe.py:467: UserWarning: Residues specified but no atom_resindex given.  All atoms will be placed in first Residue.\n",
      "  warnings.warn(\n",
      "/mnt/d/miniconda3/envs/pmm/lib/python3.9/site-packages/MDAnalysis/core/universe.py:473: UserWarning: Segments specified but no segment_resindex given.  All residues will be placed in first Segment\n",
      "  warnings.warn(\n",
      "/mnt/d/miniconda3/envs/pmm/lib/python3.9/site-packages/MDAnalysis/core/selection.py:728: DeprecationWarning: `np.bool` is a deprecated alias for the builtin `bool`. To silence this warning, use `bool` by itself. Doing this will not modify any behavior and is safe. If you specifically wanted the numpy scalar type, use `np.bool_` here.\n",
      "Deprecated in NumPy 1.20; for more details and guidance: https://numpy.org/devdocs/release/1.20.0-notes.html#deprecations\n",
      "  mask = np.zeros(len(group), dtype=np.bool)\n"
     ]
    },
    {
     "output_type": "display_data",
     "data": {
      "text/plain": "NGLWidget()",
      "application/vnd.jupyter.widget-view+json": {
       "version_major": 2,
       "version_minor": 0,
       "model_id": "5a82b417464c4e2cae6f3e32a33e7aca"
      }
     },
     "metadata": {}
    }
   ],
   "source": [
    "# Let's consider only a single frame\n",
    "for i, ts in enumerate(traj.trajectory):\n",
    "    # Divide the trajectory in QC and solvent.\n",
    "    # NOTE: the indexes for the QC are inclusive of the extremes.\n",
    "    qc_traj, solv_traj = pmm.split_qc_solv(traj, '1:28')\n",
    "    #print(pmm.rotate_dip_matrix(pmm_inputs['dip_matrix'], qc_traj, qc_geom))\n",
    "\n",
    "    # Calculate the center of mass of QC\n",
    "    cdm = qc_traj.center_of_mass()\n",
    "    #print(solv_traj.atoms.positions)\n",
    "    #print('cdm ref ', qc_geom.atoms.center_of_mass())\n",
    "    # shift origin to the centers of mass of frame_geom to (0, 0, 0).\n",
    "    # NOTE: it changes the positions in traj_geom permanently.\n",
    "    qc_traj.atoms.positions = qc_traj.atoms.positions - cdm\n",
    "    print('cdm traj ', qc_traj.center_of_mass())\n",
    "    rot_matrix, rmsd = align.rotation_matrix(qc_traj.atoms.positions,\n",
    "                                             qc_geom.atoms.positions,\n",
    "                                             weights=qc_geom.atoms.masses)\n",
    "    #print(rot_matrix)\n",
    "    if i == 7:\n",
    "        rot_traj_geom = mda.Universe.empty(qc_geom.atoms.n_atoms, trajectory=True)\n",
    "        rot_traj_geom.atoms.positions = rot_matrix.dot(qc_traj.atoms.positions.T).T\n",
    "        print(type(qc_traj), type(qc_geom), type(rot_traj_geom))\n",
    "        u_tot = mda.Merge(qc_traj, qc_geom.atoms, rot_traj_geom.atoms)\n",
    "        print(qc_traj.positions)\n",
    "        print(qc_geom.atoms.positions)\n",
    "        print(rot_traj_geom.atoms.positions)\n",
    "        w = nv.show_mdanalysis(u_tot)\n",
    "w"
   ]
  },
  {
   "cell_type": "code",
   "execution_count": null,
   "metadata": {},
   "outputs": [],
   "source": []
  }
 ]
}