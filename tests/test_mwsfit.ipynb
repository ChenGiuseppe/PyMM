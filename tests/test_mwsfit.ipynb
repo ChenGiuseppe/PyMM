{
 "metadata": {
  "language_info": {
   "codemirror_mode": {
    "name": "ipython",
    "version": 3
   },
   "file_extension": ".py",
   "mimetype": "text/x-python",
   "name": "python",
   "nbconvert_exporter": "python",
   "pygments_lexer": "ipython3",
   "version": "3.9.4"
  },
  "orig_nbformat": 2,
  "kernelspec": {
   "name": "python394jvsc74a57bd0676ad3dc2bc2873242b62c9dd821caaaf8f5dc90cc56fca046628b2da1115a94",
   "display_name": "Python 3.9.4 64-bit ('pmm': conda)"
  }
 },
 "nbformat": 4,
 "nbformat_minor": 2,
 "cells": [
  {
   "cell_type": "code",
   "execution_count": 1,
   "metadata": {},
   "outputs": [
    {
     "output_type": "display_data",
     "data": {
      "text/plain": "",
      "application/vnd.jupyter.widget-view+json": {
       "version_major": 2,
       "version_minor": 0,
       "model_id": "015231d228c042c086be70653e66d47d"
      }
     },
     "metadata": {}
    }
   ],
   "source": [
    "import sys\n",
    "from timeit import default_timer as timer\n",
    "import pmm.inputs\n",
    "import pmm.pmm\n",
    "import pmm.conversions\n",
    "import MDAnalysis as mda\n",
    "from MDAnalysis.analysis import align\n",
    "from MDAnalysis.analysis.rms import rmsd\n",
    "import numpy as np\n",
    "#import numpy.linalg \n",
    "import nglview as nv"
   ]
  },
  {
   "cell_type": "code",
   "execution_count": 8,
   "metadata": {},
   "outputs": [
    {
     "output_type": "stream",
     "name": "stdout",
     "text": [
      "inputs da Gaussian ci mette:  0.010010900004999712\n",
      "<Universe with 3 atoms>\n",
      "/mnt/d/miniconda3/envs/pmm/lib/python3.9/site-packages/MDAnalysis/core/universe.py:467: UserWarning: Residues specified but no atom_resindex given.  All atoms will be placed in first Residue.\n",
      "  warnings.warn(\n",
      "/mnt/d/miniconda3/envs/pmm/lib/python3.9/site-packages/MDAnalysis/core/universe.py:473: UserWarning: Segments specified but no segment_resindex given.  All residues will be placed in first Segment\n",
      "  warnings.warn(\n"
     ]
    }
   ],
   "source": [
    "# gather the electronic properties\n",
    "start = timer()\n",
    "gauss_file = 'water/qm/wat_esp{}.log'\n",
    "n_el_states = 4\n",
    "qm_inputs = pmm.inputs.get_tot_input_gauss(gauss_file, n_el_states)\n",
    "end = timer()\n",
    "print('inputs da Gaussian ci mette: ', end - start)\n",
    "#print(qm_inputs)\n",
    "\n",
    "qc_geom = pmm.pmm.convert2Universe(qm_inputs['geometry'])\n",
    "cdm_ref = qc_geom.atoms.center_of_mass()\n",
    "qc_geom.atoms.positions = qc_geom.atoms.positions - cdm_ref\n",
    "print(qc_geom)"
   ]
  },
  {
   "cell_type": "code",
   "execution_count": 6,
   "metadata": {},
   "outputs": [
    {
     "output_type": "stream",
     "name": "stdout",
     "text": [
      "leggere xtc ci mette:  0.07086170000548009\n"
     ]
    },
    {
     "output_type": "display_data",
     "data": {
      "text/plain": "NGLWidget(max_frame=10)",
      "application/vnd.jupyter.widget-view+json": {
       "version_major": 2,
       "version_minor": 0,
       "model_id": "0c139263cdd84fdea0c4fbf0fa06df6e"
      }
     },
     "metadata": {}
    }
   ],
   "source": [
    "# Read the MD trajectory\n",
    "start = timer()\n",
    "traj = mda.Universe('water/mm/md.tpr', 'water/mm/trajout.xtc')\n",
    "end = timer()\n",
    "print('leggere xtc ci mette: ', end - start)\n",
    "w = nv.show_mdanalysis(traj)\n",
    "w\n",
    "\n",
    "#qc_traj, solv_traj = pmm.split_qc_solv(traj, '1:28')\n",
    "#print(qc_traj)\n",
    "#w = nv.show_mdanalysis(solv_traj)\n",
    "#w"
   ]
  },
  {
   "cell_type": "code",
   "execution_count": 9,
   "metadata": {
    "tags": []
   },
   "outputs": [
    {
     "output_type": "stream",
     "name": "stdout",
     "text": [
      "cdm traj  [-8.65582155e-10 -1.60110255e-09  6.25178970e-10]\n",
      "cdm traj  [-7.53099409e-11 -1.68066878e-09 -2.79068976e-10]\n",
      "cdm traj  [-4.68403739e-10  6.06961092e-10 -3.92615541e-10]\n",
      "cdm traj  [-1.51480678e-10  1.01926827e-09 -1.29914820e-09]\n",
      "cdm traj  [ 8.60515781e-10 -1.66997893e-10 -5.38832936e-10]\n",
      "cdm traj  [ 7.56124522e-11 -3.32274192e-10 -1.57684793e-09]\n",
      "cdm traj  [-7.32701142e-10 -7.93248421e-10  1.29914820e-09]\n",
      "cdm traj  [-2.06461147e-09  7.97750274e-10  3.94705709e-10]\n",
      "<class 'MDAnalysis.core.groups.AtomGroup'> <class 'MDAnalysis.core.universe.Universe'> <class 'MDAnalysis.core.universe.Universe'>\n",
      "[[-0.0621069  -0.00223792  0.01902371]\n",
      " [ 0.27789325  0.45776117 -0.800976  ]\n",
      " [ 0.70789355 -0.4222399   0.49902374]]\n",
      "[[ 0.         -0.          0.06649667]\n",
      " [ 0.          0.76143    -0.53197336]\n",
      " [-0.         -0.76143    -0.53197336]]\n",
      "[[ 6.0810790e-10  2.3779901e-06  6.4993665e-02]\n",
      " [ 6.0810784e-10  8.1381488e-01 -5.1578856e-01]\n",
      " [ 6.0810801e-10 -8.1385261e-01 -5.1581824e-01]]\n",
      "cdm traj  [2.03385399e-09 1.77120900e-09 4.59998166e-10]\n",
      "cdm traj  [-1.14163893e-09  4.68403739e-10  1.80819584e-09]\n",
      "cdm traj  [2.87334792e-10 2.38740123e-09 5.30845892e-10]\n",
      "/mnt/d/miniconda3/envs/pmm/lib/python3.9/site-packages/MDAnalysis/core/selection.py:728: DeprecationWarning: `np.bool` is a deprecated alias for the builtin `bool`. To silence this warning, use `bool` by itself. Doing this will not modify any behavior and is safe. If you specifically wanted the numpy scalar type, use `np.bool_` here.\n",
      "Deprecated in NumPy 1.20; for more details and guidance: https://numpy.org/devdocs/release/1.20.0-notes.html#deprecations\n",
      "  mask = np.zeros(len(group), dtype=np.bool)\n"
     ]
    },
    {
     "output_type": "display_data",
     "data": {
      "text/plain": "NGLWidget()",
      "application/vnd.jupyter.widget-view+json": {
       "version_major": 2,
       "version_minor": 0,
       "model_id": "918379c6012d46829cac6a8ad7fe9b07"
      }
     },
     "metadata": {}
    }
   ],
   "source": [
    "# Let's consider only a single frame\n",
    "for i, ts in enumerate(traj.trajectory):\n",
    "    # Divide the trajectory in QC and solvent.\n",
    "    # NOTE: the indexes for the QC are inclusive of the extremes.\n",
    "    qc_traj, solv_traj = pmm.pmm.split_qc_solv(traj, '1:3')\n",
    "    #print(pmm.rotate_dip_matrix(qm_inputs['dip_matrix'], qc_traj, qc_geom))\n",
    "\n",
    "    # Calculate the center of mass of QC\n",
    "    cdm = qc_traj.center_of_mass()\n",
    "    #print(solv_traj.atoms.positions)\n",
    "    #print('cdm ref ', qc_geom.atoms.center_of_mass())\n",
    "    # shift origin to the centers of mass of frame_geom to (0, 0, 0).\n",
    "    # NOTE: it changes the positions in traj_geom permanently.\n",
    "    qc_traj.atoms.positions = qc_traj.atoms.positions - cdm\n",
    "    print('cdm traj ', qc_traj.center_of_mass())\n",
    "    rot_matrix, rmsd = align.rotation_matrix(qc_traj.atoms.positions,\n",
    "                                             qc_geom.atoms.positions,\n",
    "                                             weights=qc_geom.atoms.masses)\n",
    "    #print(rot_matrix)\n",
    "    if i == 7:\n",
    "        rot_traj_geom = mda.Universe.empty(qc_geom.atoms.n_atoms, trajectory=True)\n",
    "        rot_traj_geom.atoms.positions = rot_matrix.dot(qc_traj.atoms.positions.T).T\n",
    "        print(type(qc_traj), type(qc_geom), type(rot_traj_geom))\n",
    "        u_tot = mda.Merge(qc_traj, qc_geom.atoms, rot_traj_geom.atoms)\n",
    "        print(qc_traj.positions)\n",
    "        print(qc_geom.atoms.positions)\n",
    "        print(rot_traj_geom.atoms.positions)\n",
    "        w = nv.show_mdanalysis(u_tot)\n",
    "w"
   ]
  },
  {
   "cell_type": "code",
   "execution_count": null,
   "metadata": {},
   "outputs": [],
   "source": []
  }
 ]
}